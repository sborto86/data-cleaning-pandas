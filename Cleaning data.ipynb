{
 "cells": [
  {
   "cell_type": "markdown",
   "id": "d6ccf99d",
   "metadata": {},
   "source": [
    "# Table of contents\n",
    "1. [Initial Cleaning](#section-1)\n",
    "2. [Normalizing Shark Species Information](#section-2)\n",
    "3. [Shark Lethality](#section-3)"
   ]
  },
  {
   "cell_type": "code",
   "execution_count": 1,
   "id": "ed8957b5",
   "metadata": {},
   "outputs": [],
   "source": [
    "# Libraries Import Section:"
   ]
  },
  {
   "cell_type": "code",
   "execution_count": 2,
   "id": "6811e072",
   "metadata": {},
   "outputs": [],
   "source": [
    "# Library import\n",
    "import pandas as pd\n",
    "import re\n",
    "import seaborn as sns\n",
    "import matplotlib.pyplot as plt"
   ]
  },
  {
   "cell_type": "code",
   "execution_count": 3,
   "id": "7ffe8e00",
   "metadata": {},
   "outputs": [],
   "source": [
    "sharks = pd.read_csv(\"./data/sharks.csv\", encoding='unicode_escape')"
   ]
  },
  {
   "cell_type": "markdown",
   "id": "ceb122ef",
   "metadata": {},
   "source": [
    "# Initial Cleaning<a name=\"section-1\"></a>\n",
    "\n",
    "- Remove blank lines and duplicates\n",
    "- Remove columns without useful information for the study"
   ]
  },
  {
   "cell_type": "markdown",
   "id": "f7dbd2d4",
   "metadata": {},
   "source": [
    "### Initial Database Size:"
   ]
  },
  {
   "cell_type": "code",
   "execution_count": 4,
   "id": "a0ba9f2a",
   "metadata": {},
   "outputs": [
    {
     "name": "stdout",
     "output_type": "stream",
     "text": [
      "Rows: 25723\n",
      "Columns: 24\n"
     ]
    }
   ],
   "source": [
    "print(f\"\"\"Rows: {sharks.shape[0]}\n",
    "Columns: {sharks.shape[1]}\"\"\")"
   ]
  },
  {
   "cell_type": "code",
   "execution_count": 5,
   "id": "0cbc77a6",
   "metadata": {},
   "outputs": [],
   "source": [
    "sharks.dropna(how=\"all\", inplace=True)"
   ]
  },
  {
   "cell_type": "code",
   "execution_count": 6,
   "id": "3a1f0226",
   "metadata": {},
   "outputs": [],
   "source": [
    "sharks = sharks.drop_duplicates()"
   ]
  },
  {
   "cell_type": "code",
   "execution_count": 7,
   "id": "36f853e1",
   "metadata": {},
   "outputs": [],
   "source": [
    "sharks_species = sharks.drop(['Investigator or Source','pdf','href formula', 'href',\n",
    "       'Case Number.1', 'Case Number.2', 'original order', 'Unnamed: 22',\n",
    "       'Unnamed: 23'], axis=1)"
   ]
  },
  {
   "cell_type": "markdown",
   "id": "3f60fad5",
   "metadata": {},
   "source": [
    "### Database Size After Cleaning:"
   ]
  },
  {
   "cell_type": "code",
   "execution_count": 8,
   "id": "a4314081",
   "metadata": {},
   "outputs": [
    {
     "name": "stdout",
     "output_type": "stream",
     "text": [
      "Rows: 6311\n",
      "Columns: 15\n"
     ]
    }
   ],
   "source": [
    "print(f\"\"\"Rows: {sharks_species.shape[0]}\n",
    "Columns: {sharks_species.shape[1]}\"\"\")"
   ]
  },
  {
   "cell_type": "markdown",
   "id": "8689c362",
   "metadata": {},
   "source": [
    "# Normalizing Shark Species Information:<a name=\"section-2\"></a>\n",
    "- Add Unknown Shark to all cases without information\n",
    "- Find if Shark Species are metioned in the cases where something is reported\n",
    "- Clean and standrize Shark Species reported\n",
    "- Find the 8 species most reported and group the others in a Other Sharks category"
   ]
  },
  {
   "cell_type": "markdown",
   "id": "bd87dd65",
   "metadata": {},
   "source": [
    "### Defining functions:"
   ]
  },
  {
   "cell_type": "code",
   "execution_count": 9,
   "id": "d77b9225",
   "metadata": {},
   "outputs": [],
   "source": [
    "def species_clean(string):\n",
    "    '''\n",
    "    function to clean species column from database https://www.kaggle.com/datasets/teajay/global-shark-attacks\n",
    "        1) If no value return \"unknown shark\"\n",
    "        2) Set all text to lower case\n",
    "        3) Using regex finds pattern of word 'shark' precided by one or two words, if can find convert to \"unknown shark\"\n",
    "        4) Remove \"small\" string and \"a \" string\n",
    "        5) Remove leading and trailing spaces\n",
    "        6) If \"unidentified\" return \"unknown shark\"\n",
    "        7) Return either shark species or \"unknown shark\"\n",
    "        \n",
    "    '''\n",
    "    if not isinstance(string, str):\n",
    "        return \"unknown shark\"\n",
    "    string = string.lower()\n",
    "    if re.match(\"[A-Za-z]+\\s?[A-Za-z]{3,}\\ssharks?\", string):\n",
    "        shark = re.match(\"[A-Za-z]+\\s?[A-Za-z]{3,}\\ssharks?\", string)[0]\n",
    "        if \"small\" in shark:\n",
    "            shark = shark.replace(\"small\", \"\")\n",
    "        if \"a \" in shark:\n",
    "            shark = shark.replace(\"a \", \"\")\n",
    "        elif \"uidentified\" in shark:\n",
    "            return 'unknown shark'\n",
    "        shark = shark.strip()\n",
    "        if shark == \"shark\":\n",
    "            return 'unknown shark'\n",
    "        else: \n",
    "            return shark\n",
    "    else:\n",
    "        return 'unknown shark'\n",
    "def substrings_cleaning(list):\n",
    "    '''\n",
    "    Removes substrings from a strings list\n",
    "    '''\n",
    "    clean_list = list.copy()\n",
    "    is_sub = False\n",
    "    for e in list:\n",
    "        for i in range(0,len(list)):\n",
    "            if e in list[i] and list[i] in clean_list and e != list[i]:\n",
    "                clean_list.remove(list[i])\n",
    "    return clean_list\n",
    "def clean_categories(element, categories_list):\n",
    "    '''\n",
    "    function to clean subcategories (contains any category as a substring) from a categories list\n",
    "    '''\n",
    "    if element in categories_list:\n",
    "            return element\n",
    "    else:\n",
    "        for e in categories_list:\n",
    "            if element in e:\n",
    "                return e\n",
    "                break\n",
    "        "
   ]
  },
  {
   "cell_type": "markdown",
   "id": "cb5bb992",
   "metadata": {},
   "source": [
    "### Extracting Shark Species:"
   ]
  },
  {
   "cell_type": "code",
   "execution_count": 10,
   "id": "ca6a12ed",
   "metadata": {},
   "outputs": [],
   "source": [
    "sharks_species[\"Species \"] = sharks_species[\"Species \"].apply(species_clean)"
   ]
  },
  {
   "cell_type": "markdown",
   "id": "21bd6443",
   "metadata": {},
   "source": [
    "### Groupping Species:"
   ]
  },
  {
   "cell_type": "code",
   "execution_count": 11,
   "id": "681f3547",
   "metadata": {},
   "outputs": [],
   "source": [
    "species_list = substrings_cleaning(list(sharks_species[\"Species \"].unique()))\n",
    "sharks_species[\"Species \"] = sharks_species[\"Species \"].apply(lambda x: clean_categories(x, species_list))"
   ]
  },
  {
   "cell_type": "markdown",
   "id": "afe8e53b",
   "metadata": {},
   "source": [
    "### Keep the 8 species with more incidents and group the rest as \"Other Sharks\""
   ]
  },
  {
   "cell_type": "code",
   "execution_count": 12,
   "id": "82252bad",
   "metadata": {},
   "outputs": [],
   "source": [
    "top_8 = list(sharks_species[\"Species \"].value_counts().index)[:10]\n",
    "sharks_species[\"Species \"] = sharks_species[\"Species \"].apply(lambda x: x.title() if x in top_8 else \"Other Sharks\" )"
   ]
  },
  {
   "cell_type": "markdown",
   "id": "54952fd3",
   "metadata": {},
   "source": [
    "## Adding a new column \"Shark Identified\""
   ]
  },
  {
   "cell_type": "code",
   "execution_count": 13,
   "id": "68dd6757",
   "metadata": {},
   "outputs": [],
   "source": [
    "sharks_species[\"Shark Identified\"] = sharks_species[\"Species \"].apply(lambda x: 0 if x == 'Unknown Shark' else 1)"
   ]
  },
  {
   "cell_type": "markdown",
   "id": "c98897d5",
   "metadata": {},
   "source": [
    "### Result:"
   ]
  },
  {
   "cell_type": "code",
   "execution_count": 14,
   "id": "84464e8e",
   "metadata": {},
   "outputs": [
    {
     "data": {
      "image/png": "[encoded data removed]",
      "text/plain": [
       "<Figure size 864x216 with 1 Axes>"
      ]
     },
     "metadata": {},
     "output_type": "display_data"
    }
   ],
   "source": [
    "sns.set(rc={\"figure.figsize\": (12.,3.)})\n",
    "identified_shark = sns.countplot(y=\"Shark Identified\", data=sharks_species)\n",
    "identified_shark.set_yticklabels(labels=[\"No\", \"Yes\"])\n",
    "identified_shark.set(xlabel=\"Number of shark attack cases\", ylabel=\"Shark species have been reported\")\n",
    "plt.show()"
   ]
  },
  {
   "cell_type": "code",
   "execution_count": 15,
   "id": "490a49bd",
   "metadata": {},
   "outputs": [
    {
     "data": {
      "text/plain": [
       "Unknown Shark        4900\n",
       "White Shark           429\n",
       "Other Sharks          372\n",
       "Tiger Shark           231\n",
       "Bull Shark            128\n",
       "Nurse Shark            52\n",
       "Wobbegong Shark        45\n",
       "Mako Shark             44\n",
       "Raggedtooth Shark      42\n",
       "Blacktip Shark         37\n",
       "Lemon Shark            31\n",
       "Name: Species , dtype: int64"
      ]
     },
     "execution_count": 15,
     "metadata": {},
     "output_type": "execute_result"
    }
   ],
   "source": [
    "sharks_species[\"Species \"].value_counts()"
   ]
  },
  {
   "cell_type": "code",
   "execution_count": 16,
   "id": "d7e8b971",
   "metadata": {},
   "outputs": [
    {
     "data": {
      "image/png": "[encoded data removed]",
      "text/plain": [
       "<Figure size 864x432 with 1 Axes>"
      ]
     },
     "metadata": {},
     "output_type": "display_data"
    }
   ],
   "source": [
    "sharks_species_clean = sharks_species[sharks_species[\"Species \"] != \"Unknown Shark\"]\n",
    "sns.set_context(\"poster\")\n",
    "sns.set(rc={\"figure.figsize\": (12.,6.)})\n",
    "sns.set_style(\"whitegrid\")\n",
    "species_count = sns.countplot(y=\"Species \", data=sharks_species_clean, order = sharks_species_clean['Species '].value_counts().index)\n",
    "species_count.set(xlabel=\"Number of shark attack cases\", ylabel=\"Shark Species\")\n",
    "plt.show()"
   ]
  },
  {
   "cell_type": "markdown",
   "id": "8cfdee5d",
   "metadata": {},
   "source": [
    "# Checking data biase using sex of the vicitim information "
   ]
  },
  {
   "cell_type": "code",
   "execution_count": null,
   "id": "d21508b7",
   "metadata": {},
   "outputs": [],
   "source": [
    "## Cleaning Sex column in the dataframe"
   ]
  },
  {
   "cell_type": "code",
   "execution_count": 44,
   "id": "2b278aae",
   "metadata": {},
   "outputs": [
    {
     "data": {
      "text/plain": [
       "M    5096\n",
       "F     637\n",
       "Name: Sex , dtype: int64"
      ]
     },
     "execution_count": 44,
     "metadata": {},
     "output_type": "execute_result"
    }
   ],
   "source": [
    "sharks_sex = sharks_species.copy()\n",
    "sharks_sex = sharks_sex.dropna(subset=[\"Sex \"])\n",
    "sharks_sex[\"Sex \"] = sharks_sex[\"Sex \"].apply(lambda x: x.strip())\n",
    "sharks_sex[\"Sex \"] = sharks_sex[\"Sex \"].apply(lambda x: x if x == \"M\" or x == \"F\" else None)\n",
    "sharks_sex = sharks_sex.dropna(subset=[\"Sex \"])"
   ]
  },
  {
   "cell_type": "code",
   "execution_count": 54,
   "id": "ba7d4e0c",
   "metadata": {},
   "outputs": [
    {
     "data": {
      "text/html": [
       "<div>\n",
       "<style scoped>\n",
       "    .dataframe tbody tr th:only-of-type {\n",
       "        vertical-align: middle;\n",
       "    }\n",
       "\n",
       "    .dataframe tbody tr th {\n",
       "        vertical-align: top;\n",
       "    }\n",
       "\n",
       "    .dataframe thead th {\n",
       "        text-align: right;\n",
       "    }\n",
       "</style>\n",
       "<table border=\"1\" class=\"dataframe\">\n",
       "  <thead>\n",
       "    <tr style=\"text-align: right;\">\n",
       "      <th></th>\n",
       "      <th>Shark Identified</th>\n",
       "      <th>Sex</th>\n",
       "      <th>Percentage</th>\n",
       "    </tr>\n",
       "  </thead>\n",
       "  <tbody>\n",
       "    <tr>\n",
       "      <th>0</th>\n",
       "      <td>0</td>\n",
       "      <td>M</td>\n",
       "      <td>88.863892</td>\n",
       "    </tr>\n",
       "    <tr>\n",
       "      <th>1</th>\n",
       "      <td>0</td>\n",
       "      <td>F</td>\n",
       "      <td>11.136108</td>\n",
       "    </tr>\n",
       "    <tr>\n",
       "      <th>2</th>\n",
       "      <td>1</td>\n",
       "      <td>M</td>\n",
       "      <td>88.975155</td>\n",
       "    </tr>\n",
       "    <tr>\n",
       "      <th>3</th>\n",
       "      <td>1</td>\n",
       "      <td>F</td>\n",
       "      <td>11.024845</td>\n",
       "    </tr>\n",
       "  </tbody>\n",
       "</table>\n",
       "</div>"
      ],
      "text/plain": [
       "   Shark Identified Sex   Percentage\n",
       "0                 0    M   88.863892\n",
       "1                 0    F   11.136108\n",
       "2                 1    M   88.975155\n",
       "3                 1    F   11.024845"
      ]
     },
     "execution_count": 54,
     "metadata": {},
     "output_type": "execute_result"
    },
    {
     "data": {
      "image/png": "[encoded data removed]",
      "text/plain": [
       "<Figure size 408.85x360 with 1 Axes>"
      ]
     },
     "metadata": {},
     "output_type": "display_data"
    }
   ],
   "source": [
    "sharks_sex2 = sharks_sex.groupby(\"Shark Identified\")[\"Sex \"] ##grouping\n",
    "sharks_sex2 = sharks_sex2.value_counts(normalize=True).mul(100) ##Getting the percentage\n",
    "sharks_sex2 = sharks_sex2.rename(\"Percentage\").reset_index()\n",
    "sharks_sex2_graph =  sns.catplot(x=\"Shark Identified\", y=\"Percentage\", hue=\"Sex \", kind='bar', data=sharks_sex2)\n",
    "sharks_sex2_graph.set(xlabel='Shark species has been identified', ylabel='Percentage')\n",
    "sharks_sex2_graph.set_xticklabels(labels=[\"No\", \"Yes\"])\n",
    "sharks_sex2_graph._legend.set_title(\"Sex of the victim\")\n",
    "for t, l in zip(sharks_sex2_graph._legend.texts, [\"Male\", \"Female\"]):\n",
    "    t.set_text(l)"
   ]
  },
  {
   "cell_type": "code",
   "execution_count": null,
   "id": "8582cd76",
   "metadata": {},
   "outputs": [],
   "source": []
  },
  {
   "cell_type": "code",
   "execution_count": null,
   "id": "ff0cdec7",
   "metadata": {},
   "outputs": [],
   "source": []
  },
  {
   "cell_type": "markdown",
   "id": "107ceda3",
   "metadata": {},
   "source": [
    "# Shark lethality <a name=\"section-2\"></a>"
   ]
  },
  {
   "cell_type": "markdown",
   "id": "1af8a184",
   "metadata": {},
   "source": [
    "## Defining cleaning fuctions"
   ]
  },
  {
   "cell_type": "code",
   "execution_count": 17,
   "id": "6262e63c",
   "metadata": {},
   "outputs": [],
   "source": [
    "def fatal_clean(string):\n",
    "    if not isinstance(string, str):\n",
    "        return None\n",
    "    string = string.upper()\n",
    "    string = string.strip()\n",
    "    if string == \"Y\" or string ==  \"N\":\n",
    "        return string\n",
    "    else:\n",
    "        return None\n",
    "    "
   ]
  },
  {
   "cell_type": "markdown",
   "id": "f872c49c",
   "metadata": {},
   "source": [
    "## Standarizing and Cleaning Database for Fatal (Y/N) column"
   ]
  },
  {
   "cell_type": "code",
   "execution_count": 18,
   "id": "4942ac42",
   "metadata": {},
   "outputs": [],
   "source": [
    "sharks_species[\"Fatal (Y/N)\"] = sharks_species[\"Fatal (Y/N)\"].apply(fatal_clean)\n",
    "sharks_fatal = sharks_species.dropna(subset=[\"Fatal (Y/N)\"])"
   ]
  },
  {
   "cell_type": "code",
   "execution_count": 19,
   "id": "57b70db3",
   "metadata": {},
   "outputs": [
    {
     "data": {
      "image/png": "[encoded data removed]",
      "text/plain": [
       "<Figure size 426.675x360 with 1 Axes>"
      ]
     },
     "metadata": {},
     "output_type": "display_data"
    }
   ],
   "source": [
    "sharks_fatal2 = sharks_fatal.groupby(\"Shark Identified\")[\"Fatal (Y/N)\"] ##grouping\n",
    "sharks_fatal2 = sharks_fatal2.value_counts(normalize=True).mul(100) ##Getting the percentage\n",
    "sharks_fatal2 = sharks_fatal2.rename(\"Percentage\").reset_index()\n",
    "sharks_fatal2_graph =  sns.catplot(x=\"Shark Identified\", y=\"Percentage\", hue=\"Fatal (Y/N)\", kind='bar', data=sharks_fatal2)\n",
    "sharks_fatal2_graph.set(xlabel='Shark species has been identified', ylabel='percentage', label=\"Fatal attack\")\n",
    "sharks_fatal2_graph.set_xticklabels(labels=[\"No\", \"Yes\"])\n",
    "sharks_fatal2_graph._legend.set_title(\"Fatal attack\")\n",
    "for t, l in zip(sharks_fatal2_graph._legend.texts, [\"No\", \"Yes\"]):\n",
    "    t.set_text(l)"
   ]
  },
  {
   "cell_type": "code",
   "execution_count": 33,
   "id": "ccba4f18",
   "metadata": {},
   "outputs": [
    {
     "name": "stderr",
     "output_type": "stream",
     "text": [
      "posx and posy should be finite values\n",
      "posx and posy should be finite values\n",
      "posx and posy should be finite values\n",
      "posx and posy should be finite values\n",
      "posx and posy should be finite values\n",
      "posx and posy should be finite values\n",
      "posx and posy should be finite values\n",
      "posx and posy should be finite values\n"
     ]
    },
    {
     "data": {
      "image/png": "[encoded data removed]",
      "text/plain": [
       "<Figure size 1026.67x360 with 1 Axes>"
      ]
     },
     "metadata": {},
     "output_type": "display_data"
    }
   ],
   "source": [
    "sharks_fatal3 = sharks_fatal[sharks_fatal[\"Species \"] != \"Unknown Shark\"]\n",
    "sharks_fatal3 = sharks_fatal.groupby(\"Species \")[\"Fatal (Y/N)\"] ##grouping\n",
    "sharks_fatal3 = sharks_fatal3.value_counts(normalize=True).mul(100) ##Getting the percentage\n",
    "sharks_fatal3 = sharks_fatal3.rename(\"Percentage\").reset_index()\n",
    "sharks_fatal3_graph =  sns.catplot(x=\"Species \", y=\"Percentage\", hue=\"Fatal (Y/N)\", kind='bar', aspect=16/6, order=['Tiger Shark','White Shark','Bull Shark', 'Other Sharks', 'Mako Shark', \"Blacktip Shark\", \"Lemon Shark\", \"Nurse Shark\", \"Raggedtooth Shark\"], data=sharks_fatal3)\n",
    "sharks_fatal3_graph.set(xlabel='Shark Species', ylabel='Percentage', label=\"Fatal attack\", title=\"Shark Lethality by Species\")\n",
    "sharks_fatal3_graph._legend.set_title(\"Fatal attack\")\n",
    "for t, l in zip(sharks_fatal3_graph._legend.texts, [\"No\", \"Yes\"]):\n",
    "    t.set_text(l)\n",
    "sharks_fatal3_graph.ax.set_ylim(0,100)\n",
    "for p in sharks_fatal3_graph.ax.patches:\n",
    "    txt = str(p.get_height().round(2)) + '%'\n",
    "    x = p.get_x()\n",
    "    y = p.get_height()\n",
    "    sharks_fatal3_graph.ax.text(x,y+1,txt)"
   ]
  },
  {
   "cell_type": "markdown",
   "id": "f65a517f",
   "metadata": {},
   "source": [
    "## Normalizing data for biase in the data when shark species were reported"
   ]
  },
  {
   "cell_type": "code",
   "execution_count": 29,
   "id": "da061a64",
   "metadata": {},
   "outputs": [],
   "source": [
    "no_fatal_norm = sharks_fatal2[\"Percentage\"][0]/sharks_fatal2[\"Percentage\"][2]\n",
    "fatal_norm = sharks_fatal2[\"Percentage\"][1] /sharks_fatal2[\"Percentage\"][3]\n",
    "sharks_fatal4 = sharks_fatal3.copy() \n",
    "sharks_fatal4['Percentage'] = sharks_fatal4['Percentage'].mask((sharks_fatal4['Percentage'] < 100) & (sharks_fatal4['Percentage'] > 0) & (sharks_fatal4[\"Fatal (Y/N)\"]==\"N\"), other=sharks_fatal4['Percentage']*no_fatal_norm, axis=0)\n",
    "sharks_fatal4['Percentage'] = sharks_fatal4['Percentage'].mask((sharks_fatal4['Percentage'] < 100) & (sharks_fatal4['Percentage'] > 0) & (sharks_fatal4[\"Fatal (Y/N)\"]==\"Y\"), other=sharks_fatal4['Percentage']*fatal_norm, axis=0)\n"
   ]
  },
  {
   "cell_type": "code",
   "execution_count": 34,
   "id": "683c580f",
   "metadata": {},
   "outputs": [
    {
     "name": "stderr",
     "output_type": "stream",
     "text": [
      "posx and posy should be finite values\n",
      "posx and posy should be finite values\n",
      "posx and posy should be finite values\n",
      "posx and posy should be finite values\n",
      "posx and posy should be finite values\n",
      "posx and posy should be finite values\n",
      "posx and posy should be finite values\n",
      "posx and posy should be finite values\n"
     ]
    },
    {
     "data": {
      "image/png": "[encoded data removed]",
      "text/plain": [
       "<Figure size 1026.67x360 with 1 Axes>"
      ]
     },
     "metadata": {},
     "output_type": "display_data"
    }
   ],
   "source": [
    "sharks_fatal4_graph =  sns.catplot(x=\"Species \", y=\"Percentage\", hue=\"Fatal (Y/N)\", kind='bar', aspect=16/6, order=['Tiger Shark','White Shark','Bull Shark', 'Other Sharks', 'Mako Shark', \"Blacktip Shark\", \"Lemon Shark\", \"Nurse Shark\", \"Raggedtooth Shark\"], data=sharks_fatal4)\n",
    "sharks_fatal4_graph.set(xlabel='Shark Species', ylabel='Percentage', label=\"Fatal attack\", title=\"Estimated Shark Lethality by Species\")\n",
    "sharks_fatal4_graph._legend.set_title(\"Fatal attack\")\n",
    "for t, l in zip(sharks_fatal4_graph._legend.texts, [\"No\", \"Yes\"]):\n",
    "    t.set_text(l)\n",
    "sharks_fatal4_graph.ax.set_ylim(0,100)\n",
    "for p in sharks_fatal4_graph.ax.patches:\n",
    "    txt = str(p.get_height().round(2)) + '%'\n",
    "    x = p.get_x()\n",
    "    y = p.get_height()\n",
    "    sharks_fatal4_graph.ax.text(x,y+1,txt)"
   ]
  },
  {
   "cell_type": "code",
   "execution_count": 30,
   "id": "0d7b6e36",
   "metadata": {},
   "outputs": [
    {
     "data": {
      "text/html": [
       "<div>\n",
       "<style scoped>\n",
       "    .dataframe tbody tr th:only-of-type {\n",
       "        vertical-align: middle;\n",
       "    }\n",
       "\n",
       "    .dataframe tbody tr th {\n",
       "        vertical-align: top;\n",
       "    }\n",
       "\n",
       "    .dataframe thead th {\n",
       "        text-align: right;\n",
       "    }\n",
       "</style>\n",
       "<table border=\"1\" class=\"dataframe\">\n",
       "  <thead>\n",
       "    <tr style=\"text-align: right;\">\n",
       "      <th></th>\n",
       "      <th>Species</th>\n",
       "      <th>Fatal (Y/N)</th>\n",
       "      <th>Percentage</th>\n",
       "    </tr>\n",
       "  </thead>\n",
       "  <tbody>\n",
       "    <tr>\n",
       "      <th>0</th>\n",
       "      <td>Blacktip Shark</td>\n",
       "      <td>N</td>\n",
       "      <td>100.000000</td>\n",
       "    </tr>\n",
       "    <tr>\n",
       "      <th>1</th>\n",
       "      <td>Bull Shark</td>\n",
       "      <td>N</td>\n",
       "      <td>69.245425</td>\n",
       "    </tr>\n",
       "    <tr>\n",
       "      <th>2</th>\n",
       "      <td>Bull Shark</td>\n",
       "      <td>Y</td>\n",
       "      <td>34.522555</td>\n",
       "    </tr>\n",
       "    <tr>\n",
       "      <th>3</th>\n",
       "      <td>Lemon Shark</td>\n",
       "      <td>N</td>\n",
       "      <td>100.000000</td>\n",
       "    </tr>\n",
       "    <tr>\n",
       "      <th>4</th>\n",
       "      <td>Mako Shark</td>\n",
       "      <td>N</td>\n",
       "      <td>81.499360</td>\n",
       "    </tr>\n",
       "    <tr>\n",
       "      <th>5</th>\n",
       "      <td>Mako Shark</td>\n",
       "      <td>Y</td>\n",
       "      <td>8.303721</td>\n",
       "    </tr>\n",
       "    <tr>\n",
       "      <th>6</th>\n",
       "      <td>Nurse Shark</td>\n",
       "      <td>N</td>\n",
       "      <td>100.000000</td>\n",
       "    </tr>\n",
       "    <tr>\n",
       "      <th>7</th>\n",
       "      <td>Other Sharks</td>\n",
       "      <td>N</td>\n",
       "      <td>78.812568</td>\n",
       "    </tr>\n",
       "    <tr>\n",
       "      <th>8</th>\n",
       "      <td>Other Sharks</td>\n",
       "      <td>Y</td>\n",
       "      <td>14.052450</td>\n",
       "    </tr>\n",
       "    <tr>\n",
       "      <th>9</th>\n",
       "      <td>Raggedtooth Shark</td>\n",
       "      <td>N</td>\n",
       "      <td>100.000000</td>\n",
       "    </tr>\n",
       "    <tr>\n",
       "      <th>10</th>\n",
       "      <td>Tiger Shark</td>\n",
       "      <td>N</td>\n",
       "      <td>63.188931</td>\n",
       "    </tr>\n",
       "    <tr>\n",
       "      <th>11</th>\n",
       "      <td>Tiger Shark</td>\n",
       "      <td>Y</td>\n",
       "      <td>47.481186</td>\n",
       "    </tr>\n",
       "    <tr>\n",
       "      <th>12</th>\n",
       "      <td>Unknown Shark</td>\n",
       "      <td>N</td>\n",
       "      <td>61.944894</td>\n",
       "    </tr>\n",
       "    <tr>\n",
       "      <th>13</th>\n",
       "      <td>Unknown Shark</td>\n",
       "      <td>Y</td>\n",
       "      <td>50.142960</td>\n",
       "    </tr>\n",
       "    <tr>\n",
       "      <th>14</th>\n",
       "      <td>White Shark</td>\n",
       "      <td>N</td>\n",
       "      <td>66.003196</td>\n",
       "    </tr>\n",
       "    <tr>\n",
       "      <th>15</th>\n",
       "      <td>White Shark</td>\n",
       "      <td>Y</td>\n",
       "      <td>41.459711</td>\n",
       "    </tr>\n",
       "    <tr>\n",
       "      <th>16</th>\n",
       "      <td>Wobbegong Shark</td>\n",
       "      <td>N</td>\n",
       "      <td>100.000000</td>\n",
       "    </tr>\n",
       "  </tbody>\n",
       "</table>\n",
       "</div>"
      ],
      "text/plain": [
       "             Species  Fatal (Y/N)  Percentage\n",
       "0      Blacktip Shark           N  100.000000\n",
       "1          Bull Shark           N   69.245425\n",
       "2          Bull Shark           Y   34.522555\n",
       "3         Lemon Shark           N  100.000000\n",
       "4          Mako Shark           N   81.499360\n",
       "5          Mako Shark           Y    8.303721\n",
       "6         Nurse Shark           N  100.000000\n",
       "7        Other Sharks           N   78.812568\n",
       "8        Other Sharks           Y   14.052450\n",
       "9   Raggedtooth Shark           N  100.000000\n",
       "10        Tiger Shark           N   63.188931\n",
       "11        Tiger Shark           Y   47.481186\n",
       "12      Unknown Shark           N   61.944894\n",
       "13      Unknown Shark           Y   50.142960\n",
       "14        White Shark           N   66.003196\n",
       "15        White Shark           Y   41.459711\n",
       "16    Wobbegong Shark           N  100.000000"
      ]
     },
     "execution_count": 30,
     "metadata": {},
     "output_type": "execute_result"
    }
   ],
   "source": [
    "sharks_fatal4"
   ]
  },
  {
   "cell_type": "code",
   "execution_count": null,
   "id": "cf83985e",
   "metadata": {},
   "outputs": [],
   "source": []
  }
 ],
 "metadata": {
  "kernelspec": {
   "display_name": "Python 3 (ipykernel)",
   "language": "python",
   "name": "python3"
  },
  "language_info": {
   "codemirror_mode": {
    "name": "ipython",
    "version": 3
   },
   "file_extension": ".py",
   "mimetype": "text/x-python",
   "name": "python",
   "nbconvert_exporter": "python",
   "pygments_lexer": "ipython3",
   "version": "3.9.12"
  }
 },
 "nbformat": 4,
 "nbformat_minor": 5
}
